{
 "cells": [
  {
   "cell_type": "code",
   "execution_count": null,
   "id": "24d21b8f-6b24-4553-93f2-6b05850dc55e",
   "metadata": {},
   "outputs": [],
   "source": []
  }
 ],
 "metadata": {
  "kernelspec": {
   "display_name": "",
   "name": ""
  },
  "language_info": {
   "name": ""
  }
 },
 "nbformat": 4,
 "nbformat_minor": 5
}
